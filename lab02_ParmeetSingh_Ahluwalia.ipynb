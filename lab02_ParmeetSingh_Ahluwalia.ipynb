{
 "cells": [
  {
   "cell_type": "markdown",
   "metadata": {},
   "source": [
    "# W2 Lab Assignment\n",
    "\n",
    "[Internet Movie Database (IMDb)](http://www.imdb.com/) provides various information about movies, such as total budgets, lengths, actors, and user ratings. They are publicly available from [here](http://www.imdb.com/interfaces). In this lab, let's explore a processed dataset named 'imdb.csv', which contains some basic information of movies.\n",
    "\n",
    "Download the file from Canvas. There are 4 columns separated by tab:\n",
    "\n",
    "1. Title: title of the movie;\n",
    "1. Year: release year;\n",
    "1. Rating: average IMDb user rating;\n",
    "1. Votes: number of IMDB users who rated this movie\n",
    "\n",
    "First, we want to get some insights from the data with Python; then we want to display information on a web page and prettify it with html/css.\n",
    "\n",
    "Things to note:\n",
    "\n",
    "1. Let's use Python 3.5;\n",
    "2. There are 313,012 lines in the file. When printing things, print selectively.\n"
   ]
  },
  {
   "cell_type": "markdown",
   "metadata": {},
   "source": [
    "# Part 1. Data manipulation with Python"
   ]
  },
  {
   "cell_type": "markdown",
   "metadata": {},
   "source": [
    "## Q1: What is the first and last year in this dataset? How many movies released in each year?\n",
    "\n",
    "To do this, we first need to read the CSV file. Python provides the [csv](https://docs.python.org/2/library/csv.html) module to read and write CSV files. The [`csv.reader`](https://docs.python.org/2/library/csv.html#csv.reader) function returns a Python object which will iterate over lines in the given file. Each line is returned as a list of strings, so that we can access a particular column using list index. If we want to ignore the first line, we can use [`islice`](https://docs.python.org/2/library/itertools.html#itertools.islice). It is like slicing a list, but it can slice an iterator (e.g. file stream). For instance, `islice(reader, 0, 5)` means \"give me the first 5 items from the `reader`\". `islice(reader, 1, 5)` means \"give me the 4 items starting from the second item\". \n",
    "\n",
    "A basic usage example to read the first 11 lines of 'imdb.csv':"
   ]
  },
  {
   "cell_type": "code",
   "execution_count": 11,
   "metadata": {
    "collapsed": false
   },
   "outputs": [
    {
     "name": "stdout",
     "output_type": "stream",
     "text": [
      "['Title', 'Year', 'Rating', 'Votes']\n",
      "Year\n",
      "['!Next?', '1994', '5.4', '5']\n",
      "1994\n",
      "['#1 Single', '2006', '6.1', '61']\n",
      "2006\n",
      "['#7DaysLater', '2013', '7.1', '14']\n",
      "2013\n",
      "['#Bikerlive', '2014', '6.8', '11']\n",
      "2014\n"
     ]
    }
   ],
   "source": [
    "import csv\n",
    "from itertools import islice\n",
    "\n",
    "f = open('C:/Users/parmeet08/Downloads/imdb.csv', 'r')\n",
    "reader = csv.reader(f, delimiter='\\t')\n",
    "for row in islice(reader, 0, 5):\n",
    "    print(row)\n",
    "    print(row[1])"
   ]
  },
  {
   "cell_type": "markdown",
   "metadata": {},
   "source": [
    "There are many ways to do Q1. One way is to use [dictionaries](https://docs.python.org/2/tutorial/datastructures.html#dictionaries) where the key: value pairs are:\n",
    "\n",
    "- key: year\n",
    "- value: a list of movie titles or number of movies\n"
   ]
  },
  {
   "cell_type": "code",
   "execution_count": 12,
   "metadata": {
    "collapsed": false
   },
   "outputs": [
    {
     "name": "stdout",
     "output_type": "stream",
     "text": [
      "{1972: 1}\n"
     ]
    }
   ],
   "source": [
    "dt = {}\n",
    "year = 1972\n",
    "if year not in dt:\n",
    "    dt[year] = 1\n",
    "else:\n",
    "    dt[year] += 1\n",
    "print(dt)"
   ]
  },
  {
   "cell_type": "markdown",
   "metadata": {},
   "source": [
    "Python automates the job above by using [`Counter`](https://docs.python.org/3.4/library/collections.html#collections.Counter). "
   ]
  },
  {
   "cell_type": "code",
   "execution_count": 13,
   "metadata": {
    "collapsed": false
   },
   "outputs": [
    {
     "name": "stdout",
     "output_type": "stream",
     "text": [
      "1\n",
      "0\n"
     ]
    }
   ],
   "source": [
    "from collections import Counter\n",
    "\n",
    "movie_counter = Counter()\n",
    "movie_counter[1972] +=1 \n",
    "print(movie_counter[1972])\n",
    "print(movie_counter[1970])"
   ]
  },
  {
   "cell_type": "markdown",
   "metadata": {},
   "source": [
    "Once all lines are read, we want to print the dictionary, which can be done by iterating its key: value pairs."
   ]
  },
  {
   "cell_type": "code",
   "execution_count": 14,
   "metadata": {
    "collapsed": false
   },
   "outputs": [
    {
     "name": "stdout",
     "output_type": "stream",
     "text": [
      "(1972, 1)\n",
      "(1972, 1)\n"
     ]
    }
   ],
   "source": [
    "for key,val in dt.items():\n",
    "    print(key,val)\n",
    "for key,val in movie_counter.items():\n",
    "    print(key,val)"
   ]
  },
  {
   "cell_type": "markdown",
   "metadata": {},
   "source": [
    "You can get the keys (the years) by using `.keys()` function. "
   ]
  },
  {
   "cell_type": "code",
   "execution_count": 15,
   "metadata": {
    "collapsed": false
   },
   "outputs": [
    {
     "data": {
      "text/plain": [
       "[1980, 1972, 2015]"
      ]
     },
     "execution_count": 15,
     "metadata": {},
     "output_type": "execute_result"
    }
   ],
   "source": [
    "movie_counter[1980] += 5\n",
    "movie_counter[2015] += 1\n",
    "movie_counter.keys()"
   ]
  },
  {
   "cell_type": "markdown",
   "metadata": {},
   "source": [
    "and you have convenient functions like [`min()`](https://docs.python.org/2/library/functions.html#min) and [`max()`](https://docs.python.org/2/library/functions.html#max) for calculating the min and max value of a list or iterable. "
   ]
  },
  {
   "cell_type": "code",
   "execution_count": 16,
   "metadata": {
    "collapsed": false
   },
   "outputs": [
    {
     "name": "stdout",
     "output_type": "stream",
     "text": [
      "0\n",
      "1000\n"
     ]
    }
   ],
   "source": [
    "alist = [23,3,5,4,2,1,1,0,1000]\n",
    "print(min(alist))\n",
    "print(max(alist))"
   ]
  },
  {
   "cell_type": "markdown",
   "metadata": {},
   "source": [
    "**Code for Q1**"
   ]
  },
  {
   "cell_type": "code",
   "execution_count": 17,
   "metadata": {
    "collapsed": false
   },
   "outputs": [
    {
     "data": {
      "text/html": [
       "<div>\n",
       "<table border=\"1\" class=\"dataframe\">\n",
       "  <thead>\n",
       "    <tr style=\"text-align: right;\">\n",
       "      <th></th>\n",
       "      <th>Title</th>\n",
       "      <th>Year</th>\n",
       "      <th>Rating</th>\n",
       "      <th>Votes</th>\n",
       "    </tr>\n",
       "  </thead>\n",
       "  <tbody>\n",
       "    <tr>\n",
       "      <th>0</th>\n",
       "      <td>!Next?</td>\n",
       "      <td>1994</td>\n",
       "      <td>5.4</td>\n",
       "      <td>5</td>\n",
       "    </tr>\n",
       "    <tr>\n",
       "      <th>1</th>\n",
       "      <td>#1 Single</td>\n",
       "      <td>2006</td>\n",
       "      <td>6.1</td>\n",
       "      <td>61</td>\n",
       "    </tr>\n",
       "    <tr>\n",
       "      <th>2</th>\n",
       "      <td>#7DaysLater</td>\n",
       "      <td>2013</td>\n",
       "      <td>7.1</td>\n",
       "      <td>14</td>\n",
       "    </tr>\n",
       "    <tr>\n",
       "      <th>3</th>\n",
       "      <td>#Bikerlive</td>\n",
       "      <td>2014</td>\n",
       "      <td>6.8</td>\n",
       "      <td>11</td>\n",
       "    </tr>\n",
       "    <tr>\n",
       "      <th>4</th>\n",
       "      <td>#ByMySide</td>\n",
       "      <td>2012</td>\n",
       "      <td>5.5</td>\n",
       "      <td>13</td>\n",
       "    </tr>\n",
       "    <tr>\n",
       "      <th>5</th>\n",
       "      <td>#LawstinWoods</td>\n",
       "      <td>2013</td>\n",
       "      <td>7.0</td>\n",
       "      <td>6</td>\n",
       "    </tr>\n",
       "    <tr>\n",
       "      <th>6</th>\n",
       "      <td>#lovemilla</td>\n",
       "      <td>2013</td>\n",
       "      <td>6.7</td>\n",
       "      <td>17</td>\n",
       "    </tr>\n",
       "    <tr>\n",
       "      <th>7</th>\n",
       "      <td>#nitTWITS</td>\n",
       "      <td>2011</td>\n",
       "      <td>7.1</td>\n",
       "      <td>9</td>\n",
       "    </tr>\n",
       "    <tr>\n",
       "      <th>8</th>\n",
       "      <td>$#*! My Dad Says</td>\n",
       "      <td>2010</td>\n",
       "      <td>6.3</td>\n",
       "      <td>4349</td>\n",
       "    </tr>\n",
       "    <tr>\n",
       "      <th>9</th>\n",
       "      <td>$1,000,000 Chance of a Lifetime</td>\n",
       "      <td>1986</td>\n",
       "      <td>6.4</td>\n",
       "      <td>16</td>\n",
       "    </tr>\n",
       "    <tr>\n",
       "      <th>10</th>\n",
       "      <td>$100 Taxi Ride</td>\n",
       "      <td>2001</td>\n",
       "      <td>6.8</td>\n",
       "      <td>11</td>\n",
       "    </tr>\n",
       "    <tr>\n",
       "      <th>11</th>\n",
       "      <td>$100,000 Name That Tune</td>\n",
       "      <td>1984</td>\n",
       "      <td>7.6</td>\n",
       "      <td>16</td>\n",
       "    </tr>\n",
       "    <tr>\n",
       "      <th>12</th>\n",
       "      <td>$2 Bill</td>\n",
       "      <td>2002</td>\n",
       "      <td>6.0</td>\n",
       "      <td>15</td>\n",
       "    </tr>\n",
       "    <tr>\n",
       "      <th>13</th>\n",
       "      <td>$24 in 24</td>\n",
       "      <td>2012</td>\n",
       "      <td>7.0</td>\n",
       "      <td>13</td>\n",
       "    </tr>\n",
       "    <tr>\n",
       "      <th>14</th>\n",
       "      <td>$25 Million Dollar Hoax</td>\n",
       "      <td>2004</td>\n",
       "      <td>4.7</td>\n",
       "      <td>21</td>\n",
       "    </tr>\n",
       "    <tr>\n",
       "      <th>15</th>\n",
       "      <td>$40 a Day</td>\n",
       "      <td>2002</td>\n",
       "      <td>6.1</td>\n",
       "      <td>167</td>\n",
       "    </tr>\n",
       "    <tr>\n",
       "      <th>16</th>\n",
       "      <td>$5 Cover</td>\n",
       "      <td>2009</td>\n",
       "      <td>5.8</td>\n",
       "      <td>59</td>\n",
       "    </tr>\n",
       "    <tr>\n",
       "      <th>17</th>\n",
       "      <td>$5 Cover: Seattle</td>\n",
       "      <td>2009</td>\n",
       "      <td>7.2</td>\n",
       "      <td>15</td>\n",
       "    </tr>\n",
       "    <tr>\n",
       "      <th>18</th>\n",
       "      <td>$9.99</td>\n",
       "      <td>2003</td>\n",
       "      <td>7.7</td>\n",
       "      <td>16</td>\n",
       "    </tr>\n",
       "    <tr>\n",
       "      <th>19</th>\n",
       "      <td>$weepstake$</td>\n",
       "      <td>1979</td>\n",
       "      <td>5.3</td>\n",
       "      <td>27</td>\n",
       "    </tr>\n",
       "    <tr>\n",
       "      <th>20</th>\n",
       "      <td>'Allo 'Allo!</td>\n",
       "      <td>1982</td>\n",
       "      <td>8.4</td>\n",
       "      <td>15962</td>\n",
       "    </tr>\n",
       "    <tr>\n",
       "      <th>21</th>\n",
       "      <td>'Conversations with My Wife'</td>\n",
       "      <td>2010</td>\n",
       "      <td>3.2</td>\n",
       "      <td>6</td>\n",
       "    </tr>\n",
       "    <tr>\n",
       "      <th>22</th>\n",
       "      <td>'Da Kink in My Hair</td>\n",
       "      <td>2007</td>\n",
       "      <td>4.3</td>\n",
       "      <td>171</td>\n",
       "    </tr>\n",
       "    <tr>\n",
       "      <th>23</th>\n",
       "      <td>'N Sync TV</td>\n",
       "      <td>1998</td>\n",
       "      <td>7.5</td>\n",
       "      <td>11</td>\n",
       "    </tr>\n",
       "    <tr>\n",
       "      <th>24</th>\n",
       "      <td>'Orrible</td>\n",
       "      <td>2001</td>\n",
       "      <td>6.7</td>\n",
       "      <td>107</td>\n",
       "    </tr>\n",
       "    <tr>\n",
       "      <th>25</th>\n",
       "      <td>'The Making Of...'</td>\n",
       "      <td>2014</td>\n",
       "      <td>8.5</td>\n",
       "      <td>53</td>\n",
       "    </tr>\n",
       "    <tr>\n",
       "      <th>26</th>\n",
       "      <td>'Til Death Do Us Part</td>\n",
       "      <td>2006</td>\n",
       "      <td>7.2</td>\n",
       "      <td>246</td>\n",
       "    </tr>\n",
       "    <tr>\n",
       "      <th>27</th>\n",
       "      <td>'Til Death</td>\n",
       "      <td>2006</td>\n",
       "      <td>6.6</td>\n",
       "      <td>4974</td>\n",
       "    </tr>\n",
       "    <tr>\n",
       "      <th>28</th>\n",
       "      <td>'Wag kukurap</td>\n",
       "      <td>2004</td>\n",
       "      <td>6.1</td>\n",
       "      <td>10</td>\n",
       "    </tr>\n",
       "    <tr>\n",
       "      <th>29</th>\n",
       "      <td>'Way Out</td>\n",
       "      <td>1961</td>\n",
       "      <td>8.1</td>\n",
       "      <td>77</td>\n",
       "    </tr>\n",
       "    <tr>\n",
       "      <th>...</th>\n",
       "      <td>...</td>\n",
       "      <td>...</td>\n",
       "      <td>...</td>\n",
       "      <td>...</td>\n",
       "    </tr>\n",
       "    <tr>\n",
       "      <th>312981</th>\n",
       "      <td>Üzenet a Volgapartról</td>\n",
       "      <td>1942</td>\n",
       "      <td>5.8</td>\n",
       "      <td>5</td>\n",
       "    </tr>\n",
       "    <tr>\n",
       "      <th>312982</th>\n",
       "      <td>Üzeyir ömrü</td>\n",
       "      <td>1981</td>\n",
       "      <td>7.8</td>\n",
       "      <td>9</td>\n",
       "    </tr>\n",
       "    <tr>\n",
       "      <th>312983</th>\n",
       "      <td>Üç Maymun</td>\n",
       "      <td>2008</td>\n",
       "      <td>7.4</td>\n",
       "      <td>13173</td>\n",
       "    </tr>\n",
       "    <tr>\n",
       "      <th>312984</th>\n",
       "      <td>Üç ahbap çavuslar</td>\n",
       "      <td>1975</td>\n",
       "      <td>3.5</td>\n",
       "      <td>6</td>\n",
       "    </tr>\n",
       "    <tr>\n",
       "      <th>312985</th>\n",
       "      <td>Üç arkadas</td>\n",
       "      <td>1958</td>\n",
       "      <td>6.6</td>\n",
       "      <td>107</td>\n",
       "    </tr>\n",
       "    <tr>\n",
       "      <th>312986</th>\n",
       "      <td>Üç arkadas</td>\n",
       "      <td>1971</td>\n",
       "      <td>7.0</td>\n",
       "      <td>132</td>\n",
       "    </tr>\n",
       "    <tr>\n",
       "      <th>312987</th>\n",
       "      <td>Üç garipler</td>\n",
       "      <td>1957</td>\n",
       "      <td>5.0</td>\n",
       "      <td>5</td>\n",
       "    </tr>\n",
       "    <tr>\n",
       "      <th>312988</th>\n",
       "      <td>Üç halka 25</td>\n",
       "      <td>1986</td>\n",
       "      <td>4.0</td>\n",
       "      <td>27</td>\n",
       "    </tr>\n",
       "    <tr>\n",
       "      <th>312989</th>\n",
       "      <td>Üç kagitcilar</td>\n",
       "      <td>1976</td>\n",
       "      <td>7.1</td>\n",
       "      <td>270</td>\n",
       "    </tr>\n",
       "    <tr>\n",
       "      <th>312990</th>\n",
       "      <td>Üç kardese bir gelin</td>\n",
       "      <td>1965</td>\n",
       "      <td>5.8</td>\n",
       "      <td>16</td>\n",
       "    </tr>\n",
       "    <tr>\n",
       "      <th>312991</th>\n",
       "      <td>Üç karislik dünya</td>\n",
       "      <td>1984</td>\n",
       "      <td>8.1</td>\n",
       "      <td>7</td>\n",
       "    </tr>\n",
       "    <tr>\n",
       "      <th>312992</th>\n",
       "      <td>Üç kizgin cengaver</td>\n",
       "      <td>1971</td>\n",
       "      <td>5.4</td>\n",
       "      <td>5</td>\n",
       "    </tr>\n",
       "    <tr>\n",
       "      <th>312993</th>\n",
       "      <td>Üç kâgitçi</td>\n",
       "      <td>1981</td>\n",
       "      <td>7.7</td>\n",
       "      <td>1911</td>\n",
       "    </tr>\n",
       "    <tr>\n",
       "      <th>312994</th>\n",
       "      <td>Üç sevgili</td>\n",
       "      <td>1972</td>\n",
       "      <td>5.8</td>\n",
       "      <td>79</td>\n",
       "    </tr>\n",
       "    <tr>\n",
       "      <th>312995</th>\n",
       "      <td>Üç süpermen olimpiyatlarda</td>\n",
       "      <td>1984</td>\n",
       "      <td>5.0</td>\n",
       "      <td>40</td>\n",
       "    </tr>\n",
       "    <tr>\n",
       "      <th>312996</th>\n",
       "      <td>Üç tekerlekli bisiklet</td>\n",
       "      <td>1962</td>\n",
       "      <td>6.9</td>\n",
       "      <td>34</td>\n",
       "    </tr>\n",
       "    <tr>\n",
       "      <th>312997</th>\n",
       "      <td>Üç öfkeli genç</td>\n",
       "      <td>1963</td>\n",
       "      <td>5.8</td>\n",
       "      <td>5</td>\n",
       "    </tr>\n",
       "    <tr>\n",
       "      <th>312998</th>\n",
       "      <td>Üç, Iki, Bir... Kestik!</td>\n",
       "      <td>2014</td>\n",
       "      <td>3.8</td>\n",
       "      <td>43</td>\n",
       "    </tr>\n",
       "    <tr>\n",
       "      <th>312999</th>\n",
       "      <td>Üçte bir</td>\n",
       "      <td>2009</td>\n",
       "      <td>6.9</td>\n",
       "      <td>21</td>\n",
       "    </tr>\n",
       "    <tr>\n",
       "      <th>313000</th>\n",
       "      <td>Üçüncü Sayfa</td>\n",
       "      <td>1999</td>\n",
       "      <td>7.5</td>\n",
       "      <td>1684</td>\n",
       "    </tr>\n",
       "    <tr>\n",
       "      <th>313001</th>\n",
       "      <td>Üçüncü Selim'in gözdesi</td>\n",
       "      <td>1950</td>\n",
       "      <td>8.0</td>\n",
       "      <td>26</td>\n",
       "    </tr>\n",
       "    <tr>\n",
       "      <th>313002</th>\n",
       "      <td>Üçüncü göz</td>\n",
       "      <td>1988</td>\n",
       "      <td>5.5</td>\n",
       "      <td>39</td>\n",
       "    </tr>\n",
       "    <tr>\n",
       "      <th>313003</th>\n",
       "      <td>Üçünüzü de mihlarim</td>\n",
       "      <td>1965</td>\n",
       "      <td>6.2</td>\n",
       "      <td>17</td>\n",
       "    </tr>\n",
       "    <tr>\n",
       "      <th>313004</th>\n",
       "      <td>Þegar Kanínur Fljúga</td>\n",
       "      <td>2011</td>\n",
       "      <td>8.2</td>\n",
       "      <td>31</td>\n",
       "    </tr>\n",
       "    <tr>\n",
       "      <th>313005</th>\n",
       "      <td>Þetta Reddast</td>\n",
       "      <td>2013</td>\n",
       "      <td>4.7</td>\n",
       "      <td>24</td>\n",
       "    </tr>\n",
       "    <tr>\n",
       "      <th>313006</th>\n",
       "      <td>Þetta er ekkert mál</td>\n",
       "      <td>2006</td>\n",
       "      <td>8.7</td>\n",
       "      <td>76</td>\n",
       "    </tr>\n",
       "    <tr>\n",
       "      <th>313007</th>\n",
       "      <td>Þriðja nafni</td>\n",
       "      <td>2003</td>\n",
       "      <td>6.9</td>\n",
       "      <td>28</td>\n",
       "    </tr>\n",
       "    <tr>\n",
       "      <th>313008</th>\n",
       "      <td>Þröng sýn</td>\n",
       "      <td>2005</td>\n",
       "      <td>7.6</td>\n",
       "      <td>10</td>\n",
       "    </tr>\n",
       "    <tr>\n",
       "      <th>313009</th>\n",
       "      <td>ärtico</td>\n",
       "      <td>2014</td>\n",
       "      <td>7.2</td>\n",
       "      <td>72</td>\n",
       "    </tr>\n",
       "    <tr>\n",
       "      <th>313010</th>\n",
       "      <td>ö</td>\n",
       "      <td>2012</td>\n",
       "      <td>6.6</td>\n",
       "      <td>28</td>\n",
       "    </tr>\n",
       "  </tbody>\n",
       "</table>\n",
       "<p>313011 rows × 4 columns</p>\n",
       "</div>"
      ],
      "text/plain": [
       "                                  Title  Year  Rating  Votes\n",
       "0                                !Next?  1994     5.4      5\n",
       "1                             #1 Single  2006     6.1     61\n",
       "2                           #7DaysLater  2013     7.1     14\n",
       "3                            #Bikerlive  2014     6.8     11\n",
       "4                             #ByMySide  2012     5.5     13\n",
       "5                         #LawstinWoods  2013     7.0      6\n",
       "6                            #lovemilla  2013     6.7     17\n",
       "7                             #nitTWITS  2011     7.1      9\n",
       "8                      $#*! My Dad Says  2010     6.3   4349\n",
       "9       $1,000,000 Chance of a Lifetime  1986     6.4     16\n",
       "10                       $100 Taxi Ride  2001     6.8     11\n",
       "11              $100,000 Name That Tune  1984     7.6     16\n",
       "12                              $2 Bill  2002     6.0     15\n",
       "13                            $24 in 24  2012     7.0     13\n",
       "14              $25 Million Dollar Hoax  2004     4.7     21\n",
       "15                            $40 a Day  2002     6.1    167\n",
       "16                             $5 Cover  2009     5.8     59\n",
       "17                    $5 Cover: Seattle  2009     7.2     15\n",
       "18                                $9.99  2003     7.7     16\n",
       "19                          $weepstake$  1979     5.3     27\n",
       "20                         'Allo 'Allo!  1982     8.4  15962\n",
       "21         'Conversations with My Wife'  2010     3.2      6\n",
       "22                  'Da Kink in My Hair  2007     4.3    171\n",
       "23                           'N Sync TV  1998     7.5     11\n",
       "24                             'Orrible  2001     6.7    107\n",
       "25                   'The Making Of...'  2014     8.5     53\n",
       "26                'Til Death Do Us Part  2006     7.2    246\n",
       "27                           'Til Death  2006     6.6   4974\n",
       "28                         'Wag kukurap  2004     6.1     10\n",
       "29                             'Way Out  1961     8.1     77\n",
       "...                                 ...   ...     ...    ...\n",
       "312981            Üzenet a Volgapartról  1942     5.8      5\n",
       "312982                      Üzeyir ömrü  1981     7.8      9\n",
       "312983                        Üç Maymun  2008     7.4  13173\n",
       "312984                Üç ahbap çavuslar  1975     3.5      6\n",
       "312985                       Üç arkadas  1958     6.6    107\n",
       "312986                       Üç arkadas  1971     7.0    132\n",
       "312987                      Üç garipler  1957     5.0      5\n",
       "312988                      Üç halka 25  1986     4.0     27\n",
       "312989                    Üç kagitcilar  1976     7.1    270\n",
       "312990             Üç kardese bir gelin  1965     5.8     16\n",
       "312991                Üç karislik dünya  1984     8.1      7\n",
       "312992               Üç kizgin cengaver  1971     5.4      5\n",
       "312993                       Üç kâgitçi  1981     7.7   1911\n",
       "312994                       Üç sevgili  1972     5.8     79\n",
       "312995       Üç süpermen olimpiyatlarda  1984     5.0     40\n",
       "312996           Üç tekerlekli bisiklet  1962     6.9     34\n",
       "312997                   Üç öfkeli genç  1963     5.8      5\n",
       "312998          Üç, Iki, Bir... Kestik!  2014     3.8     43\n",
       "312999                         Üçte bir  2009     6.9     21\n",
       "313000                     Üçüncü Sayfa  1999     7.5   1684\n",
       "313001          Üçüncü Selim'in gözdesi  1950     8.0     26\n",
       "313002                       Üçüncü göz  1988     5.5     39\n",
       "313003              Üçünüzü de mihlarim  1965     6.2     17\n",
       "313004             Þegar Kanínur Fljúga  2011     8.2     31\n",
       "313005                    Þetta Reddast  2013     4.7     24\n",
       "313006              Þetta er ekkert mál  2006     8.7     76\n",
       "313007                     Þriðja nafni  2003     6.9     28\n",
       "313008                        Þröng sýn  2005     7.6     10\n",
       "313009                           ärtico  2014     7.2     72\n",
       "313010                                ö  2012     6.6     28\n",
       "\n",
       "[313011 rows x 4 columns]"
      ]
     },
     "execution_count": 17,
     "metadata": {},
     "output_type": "execute_result"
    }
   ],
   "source": [
    "# implement below\n",
    "import pandas as pd\n",
    "data = pd.read_csv(\"C:/Users/parmeet08/Downloads/imdb.csv\",delimiter = '\\t')\n",
    "data"
   ]
  },
  {
   "cell_type": "code",
   "execution_count": 18,
   "metadata": {
    "collapsed": false
   },
   "outputs": [
    {
     "name": "stdout",
     "output_type": "stream",
     "text": [
      "('First year:', 1874)\n",
      "('Last year:', 2017)\n",
      "Year\n",
      "1874        1\n",
      "1878        1\n",
      "1887        1\n",
      "1888        5\n",
      "1889        2\n",
      "1890        5\n",
      "1891        9\n",
      "1892        9\n",
      "1893        2\n",
      "1894       94\n",
      "1895      116\n",
      "1896      678\n",
      "1897      479\n",
      "1898      321\n",
      "1899      242\n",
      "1900      265\n",
      "1901      254\n",
      "1902      217\n",
      "1903      261\n",
      "1904      214\n",
      "1905      177\n",
      "1906      182\n",
      "1907      197\n",
      "1908      267\n",
      "1909      405\n",
      "1910      389\n",
      "1911      309\n",
      "1912      376\n",
      "1913      311\n",
      "1914      315\n",
      "        ...  \n",
      "1988     3054\n",
      "1989     3193\n",
      "1990     3093\n",
      "1991     2993\n",
      "1992     3136\n",
      "1993     3128\n",
      "1994     3415\n",
      "1995     3698\n",
      "1996     3923\n",
      "1997     4353\n",
      "1998     4651\n",
      "1999     5138\n",
      "2000     5575\n",
      "2001     6042\n",
      "2002     6694\n",
      "2003     7355\n",
      "2004     8584\n",
      "2005     9508\n",
      "2006    10115\n",
      "2007    10147\n",
      "2008    11095\n",
      "2009    12268\n",
      "2010    12931\n",
      "2011    13944\n",
      "2012    13887\n",
      "2013    13048\n",
      "2014    10862\n",
      "2015     4402\n",
      "2016        2\n",
      "2017        1\n",
      "Name: Title, dtype: int64\n"
     ]
    }
   ],
   "source": [
    "first = min(data[\"Year\"])\n",
    "last = max(data[\"Year\"])\n",
    "print(\"First year:\",first)\n",
    "print(\"Last year:\",last)\n",
    "print(data.groupby(data[\"Year\"])[\"Title\"].count())"
   ]
  },
  {
   "cell_type": "markdown",
   "metadata": {},
   "source": [
    "## Q2: What is the average ratings/votes?\n",
    "\n",
    "We can store the ratings/votes column as a list and then calculate various basic statistics (mean, median, etc.). To do this, we can use the [NumPy](http://www.numpy.org/) library and call the function [`numpy.mean`](http://docs.scipy.org/doc/numpy/reference/generated/numpy.mean.html) and [`numpy.median`](http://docs.scipy.org/doc/numpy/reference/generated/numpy.median.html). For example,"
   ]
  },
  {
   "cell_type": "code",
   "execution_count": 19,
   "metadata": {
    "collapsed": false
   },
   "outputs": [
    {
     "name": "stdout",
     "output_type": "stream",
     "text": [
      "3.16666666667\n",
      "2.5\n"
     ]
    }
   ],
   "source": [
    "import numpy as np\n",
    "\n",
    "alist = [1,3,6,2,5,2]\n",
    "print(np.mean(alist))\n",
    "print(np.median(alist))"
   ]
  },
  {
   "cell_type": "markdown",
   "metadata": {},
   "source": [
    "**Code for Q2**"
   ]
  },
  {
   "cell_type": "code",
   "execution_count": 20,
   "metadata": {
    "collapsed": false
   },
   "outputs": [
    {
     "name": "stdout",
     "output_type": "stream",
     "text": [
      "6.29619534138\n",
      "6.5\n"
     ]
    }
   ],
   "source": [
    "# implement below\n",
    "mean_rating  = data[\"Rating\"].mean()\n",
    "median_rating = data[\"Rating\"].median()\n",
    "print(mean_rating)\n",
    "print(median_rating)"
   ]
  },
  {
   "cell_type": "markdown",
   "metadata": {},
   "source": [
    "## Q3: What are the 5 movies that have the highest ratings/votes?\n",
    "\n",
    "Store the movie titles and ratings information as a dictonary:\n",
    "\n",
    "- key: movie title\n",
    "- value: movie rating\n",
    "\n",
    "Then, we can sort the dictionary based on its values, which will return a list of [tuples](https://docs.python.org/2/tutorial/datastructures.html#tuples-and-sequences). Note to print only the top 5 movies."
   ]
  },
  {
   "cell_type": "code",
   "execution_count": 21,
   "metadata": {
    "collapsed": false
   },
   "outputs": [
    {
     "name": "stdout",
     "output_type": "stream",
     "text": [
      "[(1981, 55), (1980, 50), (1975, 10), (1971, 2), (1962, 1)]\n",
      "(1981, 55)\n",
      "(1980, 50)\n",
      "(1975, 10)\n",
      "(1971, 2)\n",
      "(1962, 1)\n"
     ]
    }
   ],
   "source": [
    "import operator\n",
    "\n",
    "dt = {1971: 2, 1975: 10, 1962: 1, 1980: 50, 1981: 55}\n",
    "sorted_x_by_val = sorted(dt.items(), key=operator.itemgetter(1), reverse=True )\n",
    "print(sorted_x_by_val)\n",
    "for elem in sorted_x_by_val:\n",
    "    print(elem[0],elem[1])"
   ]
  },
  {
   "cell_type": "markdown",
   "metadata": {},
   "source": [
    "**Code for Q3**"
   ]
  },
  {
   "cell_type": "code",
   "execution_count": 22,
   "metadata": {
    "collapsed": false
   },
   "outputs": [
    {
     "data": {
      "text/html": [
       "<div>\n",
       "<table border=\"1\" class=\"dataframe\">\n",
       "  <thead>\n",
       "    <tr style=\"text-align: right;\">\n",
       "      <th></th>\n",
       "      <th>Title</th>\n",
       "      <th>Year</th>\n",
       "      <th>Rating</th>\n",
       "      <th>Votes</th>\n",
       "    </tr>\n",
       "  </thead>\n",
       "  <tbody>\n",
       "    <tr>\n",
       "      <th>279320</th>\n",
       "      <td>The Shawshank Redemption</td>\n",
       "      <td>1994</td>\n",
       "      <td>9.3</td>\n",
       "      <td>1511933</td>\n",
       "    </tr>\n",
       "    <tr>\n",
       "      <th>264590</th>\n",
       "      <td>The Dark Knight</td>\n",
       "      <td>2008</td>\n",
       "      <td>9.0</td>\n",
       "      <td>1487023</td>\n",
       "    </tr>\n",
       "    <tr>\n",
       "      <th>149895</th>\n",
       "      <td>Inception</td>\n",
       "      <td>2010</td>\n",
       "      <td>8.8</td>\n",
       "      <td>1285905</td>\n",
       "    </tr>\n",
       "    <tr>\n",
       "      <th>122656</th>\n",
       "      <td>Fight Club</td>\n",
       "      <td>1999</td>\n",
       "      <td>8.9</td>\n",
       "      <td>1189053</td>\n",
       "    </tr>\n",
       "    <tr>\n",
       "      <th>223981</th>\n",
       "      <td>Pulp Fiction</td>\n",
       "      <td>1994</td>\n",
       "      <td>8.9</td>\n",
       "      <td>1177471</td>\n",
       "    </tr>\n",
       "  </tbody>\n",
       "</table>\n",
       "</div>"
      ],
      "text/plain": [
       "                           Title  Year  Rating    Votes\n",
       "279320  The Shawshank Redemption  1994     9.3  1511933\n",
       "264590           The Dark Knight  2008     9.0  1487023\n",
       "149895                 Inception  2010     8.8  1285905\n",
       "122656                Fight Club  1999     8.9  1189053\n",
       "223981              Pulp Fiction  1994     8.9  1177471"
      ]
     },
     "execution_count": 22,
     "metadata": {},
     "output_type": "execute_result"
    }
   ],
   "source": [
    "# implement below\n",
    "data.sort_values(\"Votes\",ascending = False)[0:5]"
   ]
  },
  {
   "cell_type": "code",
   "execution_count": 23,
   "metadata": {
    "collapsed": false
   },
   "outputs": [
    {
     "data": {
      "text/html": [
       "<div>\n",
       "<table border=\"1\" class=\"dataframe\">\n",
       "  <thead>\n",
       "    <tr style=\"text-align: right;\">\n",
       "      <th></th>\n",
       "      <th>Title</th>\n",
       "      <th>Year</th>\n",
       "      <th>Rating</th>\n",
       "      <th>Votes</th>\n",
       "    </tr>\n",
       "  </thead>\n",
       "  <tbody>\n",
       "    <tr>\n",
       "      <th>57863</th>\n",
       "      <td>Adolfo Perez Esquivel: Rivers of Hope</td>\n",
       "      <td>2015</td>\n",
       "      <td>9.9</td>\n",
       "      <td>9</td>\n",
       "    </tr>\n",
       "    <tr>\n",
       "      <th>42123</th>\n",
       "      <td>The Red Shirt Diaries</td>\n",
       "      <td>2014</td>\n",
       "      <td>9.8</td>\n",
       "      <td>6</td>\n",
       "    </tr>\n",
       "    <tr>\n",
       "      <th>140553</th>\n",
       "      <td>High-Rise</td>\n",
       "      <td>2015</td>\n",
       "      <td>9.8</td>\n",
       "      <td>5</td>\n",
       "    </tr>\n",
       "    <tr>\n",
       "      <th>131241</th>\n",
       "      <td>Girls Loving Girls</td>\n",
       "      <td>1996</td>\n",
       "      <td>9.8</td>\n",
       "      <td>5</td>\n",
       "    </tr>\n",
       "    <tr>\n",
       "      <th>24902</th>\n",
       "      <td>Mari White Presents the Newsboys</td>\n",
       "      <td>2011</td>\n",
       "      <td>9.7</td>\n",
       "      <td>6</td>\n",
       "    </tr>\n",
       "  </tbody>\n",
       "</table>\n",
       "</div>"
      ],
      "text/plain": [
       "                                        Title  Year  Rating  Votes\n",
       "57863   Adolfo Perez Esquivel: Rivers of Hope  2015     9.9      9\n",
       "42123                   The Red Shirt Diaries  2014     9.8      6\n",
       "140553                              High-Rise  2015     9.8      5\n",
       "131241                     Girls Loving Girls  1996     9.8      5\n",
       "24902        Mari White Presents the Newsboys  2011     9.7      6"
      ]
     },
     "execution_count": 23,
     "metadata": {},
     "output_type": "execute_result"
    }
   ],
   "source": [
    "data.sort_values(\"Rating\",ascending = False)[0:5]"
   ]
  },
  {
   "cell_type": "markdown",
   "metadata": {},
   "source": [
    "#### Name the .ipynb file with file name 'lab02_lastname_firstname', and upload to Canvas under [w2] lab assingment.\n"
   ]
  },
  {
   "cell_type": "markdown",
   "metadata": {},
   "source": [
    "# Part 2. html and css"
   ]
  },
  {
   "cell_type": "markdown",
   "metadata": {},
   "source": [
    "## 1. Set up a local web server"
   ]
  },
  {
   "cell_type": "markdown",
   "metadata": {
    "collapsed": false
   },
   "source": [
    "Many browsers don't allow loading files locally due to security concerns. We can get around by creating a local web server with Python by the following:\n",
    "\n",
    "1. Open the ‘Command Prompt’.\n",
    "2. Move to the folder where you keep your lab materials by typing ‘cd FOLDER_LOCATION‘. We will use this folder as the ‘root’ for our webserver.\n",
    "3. Then type ‘python -m SimpleHTTPServer’. \n",
    "\n",
    "If successful, you'll see\n",
    "\n",
    "*Serving HTTP on 0.0.0.0 port 8000 …*\n",
    "\n",
    "This means that now your computer is running a webserver and its IP address is 0.0.0.0 and the port is 8000. Now you can open a browser and type \"0.0.0.0:8000\" on the address bar to connect to this webserver. Equivalently, you can type \"localhost:8000\".\n",
    "After typing, click on the different links. You can directly access one of these links by typing in ‘localhost:8000/NAME_OF_YOUR_FILE.html’ in the address bar.\n"
   ]
  },
  {
   "cell_type": "markdown",
   "metadata": {},
   "source": [
    "## 2. html review"
   ]
  },
  {
   "cell_type": "markdown",
   "metadata": {},
   "source": [
    "Webpages are written in a standard markup language called HTML (HyperText Markup Language). The basic syntax of HTML consists of elements enclosed within ‘<’ and ‘>’ symbols. Browsers such as Firefox and Chrome parse these tags and display the content of a webpage in the designated format. This is called rendering.\n",
    "\n",
    "Here is a list of important tags and their descriptions. \n",
    "\n",
    "- html - Surrounds the entire document.\n",
    "- head - Contains info about the document itself. E.g. the title, any external stylesheets or scripts, etc.\n",
    "- title - Assigns title to page. This title is used while bookmarking.\n",
    "- body - The main part of the document.\n",
    "- h1, h2, h3, h4, h5, h6 - Headings (Smaller the number, larger the size).\n",
    "- p - Paragraph.\n",
    "- br - Line break.\n",
    "- em - emphasize text.\n",
    "- strong or b - Bold font.\n",
    "- a - Defines a hyperlink and allows you to link out to the other webpages.\n",
    "- img - Place an image.\n",
    "- ul, ol, li - Unordered lists with bullets, ordered lists with numbers and each item in list respectively.\n",
    "- table, th, td, tr - Make a table, specifying contents of each cell.\n",
    "- <!--> - Comments – will not be displayed.\n",
    "- span - This will not visibly change anything on the webpage. But it is important while referencing in CSS or JavaScript.. It spans a section of text, say, within a paragraph.\n",
    "- div - This will not visibly change anything on the webpage. But it is important while referencing in CSS or JavaScript. It stands for division and allocates a section of a page."
   ]
  },
  {
   "cell_type": "markdown",
   "metadata": {},
   "source": [
    "<b>Use the top 5 voted movies found in the first part, try the following:</b>\n",
    "\n",
    "1. Create a table with the following columns: Movie Title, Year, Rating, Votes.\n",
    "2. Create a link with each movie title to its IMDB page.\n",
    "3. Add a title for the table. Can you change its font and set it to bold?\n",
    "4. Change the background color of the page.\n",
    "5. Add an entry of your favorite movie to the table. Can you set the text to a different color to highlight it?"
   ]
  },
  {
   "cell_type": "markdown",
   "metadata": {},
   "source": [
    "Test your code by visiting the web page on your local server. <b>Name the .html file with file name 'lab02_html_lastname_firstname', and upload to Canvas.<b>"
   ]
  },
  {
   "cell_type": "markdown",
   "metadata": {},
   "source": [
    "## 3. CSS review"
   ]
  },
  {
   "cell_type": "markdown",
   "metadata": {},
   "source": [
    "While HTML directly deals with the content and structure, CSS (Cascading Style Sheets) is the primary language that is used for the look and formatting of a web document. \n",
    "\n",
    "A CSS stylesheet consists of one or more selectors, properties and values.\n",
    "For example:\n",
    "```\n",
    "body {   \n",
    "\tbackground-color: white;   \n",
    "\tcolor: steelblue;   \n",
    "}```\n",
    "\n",
    "Selectors are the HTML elements to which the specific styles (combination of properties and values) will be applied. In the above example, all text within the ‘body’ tags will be in steelblue.\n",
    "\n",
    "There are three ways to include CSS code in HTML. This is called ‘referencing’.\n",
    "\n",
    "Embed CSS in HTML - You can place the CSS code within ‘style’ tags inside the ‘head’ tags. This way you can keep everything within a single HTML file but does make the code lengthy.\n",
    "```\n",
    "<head>\n",
    "  <style type=\"text/css\">\n",
    "      .description {\n",
    "      font: 16px times-new-roman;\n",
    "      }\n",
    "      .viz {\n",
    "      font: 10px sans-serif;\n",
    "      } \n",
    "    </style>\n",
    "</head>\n",
    "```\n",
    "Reference an external stylesheet from HTML - This is a much cleaner way but results in the creation of another file. To do this, you can copy the CSS code into a text file and save it as a ‘.css’ file in the same folder as the HTML file. In the document head in the HTML code, you can then do the following:\n",
    "```\n",
    "<head>\n",
    "  <link rel=”stylesheet” href=”stylesheet.css”>\n",
    "</head>\n",
    "```\n",
    "\n",
    "Attach inline styles - You can also directly attach the styles in-line along with the main HTML code in the body. This makes it easy to customize specific elements but makes the code very messy - the design and content get mixed up.\n",
    "```\n",
    "<p style=”color: green; font-size:36px; font-weight:bold;”>\n",
    "  Inline styles can help when using D3.\n",
    "</p>\n",
    "```"
   ]
  },
  {
   "cell_type": "markdown",
   "metadata": {},
   "source": [
    "Can you redo questions 3-5 in the previous section with only css?  <b>Name the .ipynb file with file name 'lab02_css_lastname_firstname', and upload to Canvas. <b>"
   ]
  },
  {
   "cell_type": "code",
   "execution_count": null,
   "metadata": {
    "collapsed": true
   },
   "outputs": [],
   "source": []
  }
 ],
 "metadata": {
  "kernelspec": {
   "display_name": "Python 2",
   "language": "python",
   "name": "python2"
  },
  "language_info": {
   "codemirror_mode": {
    "name": "ipython",
    "version": 2
   },
   "file_extension": ".py",
   "mimetype": "text/x-python",
   "name": "python",
   "nbconvert_exporter": "python",
   "pygments_lexer": "ipython2",
   "version": "2.7.11"
  }
 },
 "nbformat": 4,
 "nbformat_minor": 0
}
